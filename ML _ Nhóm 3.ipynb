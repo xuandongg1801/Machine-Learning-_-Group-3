{
 "cells": [
  {
   "cell_type": "markdown",
   "metadata": {},
   "source": [
    "**IMPORT DỮ LIỆU**"
   ]
  },
  {
   "cell_type": "code",
   "metadata": {
    "ExecuteTime": {
     "end_time": "2025-05-21T22:47:16.990500Z",
     "start_time": "2025-05-21T22:47:16.974962Z"
    }
   },
   "source": [
    "# 1. Import thư viện cần thiết\n",
    "import pandas as pd\n",
    "import numpy as np\n",
    "import matplotlib.pyplot as plt\n",
    "import seaborn as sns\n",
    "\n",
    "from sklearn.tree import DecisionTreeClassifier, plot_tree\n",
    "from sklearn.model_selection import train_test_split, cross_val_score\n",
    "from sklearn.metrics import classification_report, confusion_matrix, accuracy_score\n",
    "from sklearn.preprocessing import LabelEncoder"
   ],
   "outputs": [],
   "execution_count": 6
  },
  {
   "cell_type": "markdown",
   "metadata": {},
   "source": [
    "*Đọc dữ liệu*"
   ]
  },
  {
   "cell_type": "code",
   "metadata": {
    "ExecuteTime": {
     "end_time": "2025-05-21T22:47:19.024898Z",
     "start_time": "2025-05-21T22:47:18.826547Z"
    }
   },
   "source": "df = pd.read_csv(r'E:\\STUDY\\MÁY HỌC\\online_shoppers_intention.csv')",
   "outputs": [],
   "execution_count": 7
  },
  {
   "cell_type": "markdown",
   "metadata": {},
   "source": [
    "*Khai phá dữ liệu*"
   ]
  },
  {
   "cell_type": "code",
   "metadata": {
    "ExecuteTime": {
     "end_time": "2025-05-21T22:47:20.902035Z",
     "start_time": "2025-05-21T22:47:20.863818Z"
    }
   },
   "source": [
    "print(df.info())"
   ],
   "outputs": [
    {
     "name": "stdout",
     "output_type": "stream",
     "text": [
      "<class 'pandas.core.frame.DataFrame'>\n",
      "RangeIndex: 12330 entries, 0 to 12329\n",
      "Data columns (total 18 columns):\n",
      " #   Column                   Non-Null Count  Dtype  \n",
      "---  ------                   --------------  -----  \n",
      " 0   Administrative           12330 non-null  int64  \n",
      " 1   Administrative_Duration  12330 non-null  float64\n",
      " 2   Informational            12330 non-null  int64  \n",
      " 3   Informational_Duration   12330 non-null  float64\n",
      " 4   ProductRelated           12330 non-null  int64  \n",
      " 5   ProductRelated_Duration  12330 non-null  float64\n",
      " 6   BounceRates              12330 non-null  float64\n",
      " 7   ExitRates                12330 non-null  float64\n",
      " 8   PageValues               12330 non-null  float64\n",
      " 9   SpecialDay               12330 non-null  float64\n",
      " 10  Month                    12330 non-null  object \n",
      " 11  OperatingSystems         12330 non-null  int64  \n",
      " 12  Browser                  12330 non-null  int64  \n",
      " 13  Region                   12330 non-null  int64  \n",
      " 14  TrafficType              12330 non-null  int64  \n",
      " 15  VisitorType              12330 non-null  object \n",
      " 16  Weekend                  12330 non-null  bool   \n",
      " 17  Revenue                  12330 non-null  bool   \n",
      "dtypes: bool(2), float64(7), int64(7), object(2)\n",
      "memory usage: 1.5+ MB\n",
      "None\n"
     ]
    }
   ],
   "execution_count": 8
  },
  {
   "cell_type": "code",
   "metadata": {
    "ExecuteTime": {
     "end_time": "2025-05-21T22:47:22.586900Z",
     "start_time": "2025-05-21T22:47:22.567834Z"
    }
   },
   "source": [
    "print(df.head())"
   ],
   "outputs": [
    {
     "name": "stdout",
     "output_type": "stream",
     "text": [
      "   Administrative  Administrative_Duration  Informational  \\\n",
      "0               0                      0.0              0   \n",
      "1               0                      0.0              0   \n",
      "2               0                      0.0              0   \n",
      "3               0                      0.0              0   \n",
      "4               0                      0.0              0   \n",
      "\n",
      "   Informational_Duration  ProductRelated  ProductRelated_Duration  \\\n",
      "0                     0.0               1                 0.000000   \n",
      "1                     0.0               2                64.000000   \n",
      "2                     0.0               1                 0.000000   \n",
      "3                     0.0               2                 2.666667   \n",
      "4                     0.0              10               627.500000   \n",
      "\n",
      "   BounceRates  ExitRates  PageValues  SpecialDay Month  OperatingSystems  \\\n",
      "0         0.20       0.20         0.0         0.0   Feb                 1   \n",
      "1         0.00       0.10         0.0         0.0   Feb                 2   \n",
      "2         0.20       0.20         0.0         0.0   Feb                 4   \n",
      "3         0.05       0.14         0.0         0.0   Feb                 3   \n",
      "4         0.02       0.05         0.0         0.0   Feb                 3   \n",
      "\n",
      "   Browser  Region  TrafficType        VisitorType  Weekend  Revenue  \n",
      "0        1       1            1  Returning_Visitor    False    False  \n",
      "1        2       1            2  Returning_Visitor    False    False  \n",
      "2        1       9            3  Returning_Visitor    False    False  \n",
      "3        2       2            4  Returning_Visitor    False    False  \n",
      "4        3       1            4  Returning_Visitor     True    False  \n"
     ]
    }
   ],
   "execution_count": 9
  },
  {
   "cell_type": "code",
   "metadata": {
    "ExecuteTime": {
     "end_time": "2025-05-21T22:47:24.537948Z",
     "start_time": "2025-05-21T22:47:24.527948Z"
    }
   },
   "source": [
    "print(df['Revenue'].value_counts())"
   ],
   "outputs": [
    {
     "name": "stdout",
     "output_type": "stream",
     "text": [
      "Revenue\n",
      "False    10422\n",
      "True      1908\n",
      "Name: count, dtype: int64\n"
     ]
    }
   ],
   "execution_count": 10
  },
  {
   "cell_type": "markdown",
   "metadata": {},
   "source": [
    "*Dữ liệu không có giá trị null. ->Sang bước encode các cột dạng object và bool.*"
   ]
  },
  {
   "cell_type": "code",
   "metadata": {
    "ExecuteTime": {
     "end_time": "2025-05-21T22:47:26.114758Z",
     "start_time": "2025-05-21T22:47:26.095287Z"
    }
   },
   "source": [
    "# Sao chép dữ liệu để xử lý\n",
    "df_clean = df.copy()"
   ],
   "outputs": [],
   "execution_count": 11
  },
  {
   "cell_type": "code",
   "metadata": {
    "ExecuteTime": {
     "end_time": "2025-05-21T22:47:27.195349Z",
     "start_time": "2025-05-21T22:47:27.173158Z"
    }
   },
   "source": [
    "# Encode các cột phân loại\n",
    "from sklearn.preprocessing import LabelEncoder\n",
    "\n",
    "le = LabelEncoder()\n",
    "\n",
    "# Encode 'Month' (object → int)\n",
    "df_clean['Month'] = le.fit_transform(df_clean['Month'])\n",
    "\n",
    "# Encode 'VisitorType' (object → int)\n",
    "df_clean['VisitorType'] = le.fit_transform(df_clean['VisitorType'])\n",
    "\n",
    "# Convert boolean columns to integers\n",
    "df_clean['Weekend'] = df_clean['Weekend'].astype(int)\n",
    "df_clean['Revenue'] = df_clean['Revenue'].astype(int)"
   ],
   "outputs": [],
   "execution_count": 12
  },
  {
   "cell_type": "code",
   "metadata": {
    "ExecuteTime": {
     "end_time": "2025-05-21T22:47:29.707443Z",
     "start_time": "2025-05-21T22:47:29.687414Z"
    }
   },
   "source": [
    "# Kiểm tra lại\n",
    "print(df_clean.dtypes)\n",
    "print(df_clean.head())"
   ],
   "outputs": [
    {
     "name": "stdout",
     "output_type": "stream",
     "text": [
      "Administrative               int64\n",
      "Administrative_Duration    float64\n",
      "Informational                int64\n",
      "Informational_Duration     float64\n",
      "ProductRelated               int64\n",
      "ProductRelated_Duration    float64\n",
      "BounceRates                float64\n",
      "ExitRates                  float64\n",
      "PageValues                 float64\n",
      "SpecialDay                 float64\n",
      "Month                        int64\n",
      "OperatingSystems             int64\n",
      "Browser                      int64\n",
      "Region                       int64\n",
      "TrafficType                  int64\n",
      "VisitorType                  int64\n",
      "Weekend                      int64\n",
      "Revenue                      int64\n",
      "dtype: object\n",
      "   Administrative  Administrative_Duration  Informational  \\\n",
      "0               0                      0.0              0   \n",
      "1               0                      0.0              0   \n",
      "2               0                      0.0              0   \n",
      "3               0                      0.0              0   \n",
      "4               0                      0.0              0   \n",
      "\n",
      "   Informational_Duration  ProductRelated  ProductRelated_Duration  \\\n",
      "0                     0.0               1                 0.000000   \n",
      "1                     0.0               2                64.000000   \n",
      "2                     0.0               1                 0.000000   \n",
      "3                     0.0               2                 2.666667   \n",
      "4                     0.0              10               627.500000   \n",
      "\n",
      "   BounceRates  ExitRates  PageValues  SpecialDay  Month  OperatingSystems  \\\n",
      "0         0.20       0.20         0.0         0.0      2                 1   \n",
      "1         0.00       0.10         0.0         0.0      2                 2   \n",
      "2         0.20       0.20         0.0         0.0      2                 4   \n",
      "3         0.05       0.14         0.0         0.0      2                 3   \n",
      "4         0.02       0.05         0.0         0.0      2                 3   \n",
      "\n",
      "   Browser  Region  TrafficType  VisitorType  Weekend  Revenue  \n",
      "0        1       1            1            2        0        0  \n",
      "1        2       1            2            2        0        0  \n",
      "2        1       9            3            2        0        0  \n",
      "3        2       2            4            2        0        0  \n",
      "4        3       1            4            2        1        0  \n"
     ]
    }
   ],
   "execution_count": 13
  },
  {
   "cell_type": "markdown",
   "metadata": {},
   "source": [
    "*Dữ liệu đã clean. -> Sang bước huấn luyện mô hình.*"
   ]
  },
  {
   "cell_type": "markdown",
   "metadata": {},
   "source": [
    "**HUẤN LUYỆN MÔ HÌNH**"
   ]
  },
  {
   "cell_type": "markdown",
   "metadata": {},
   "source": [
    "*Tách features và labels.*"
   ]
  },
  {
   "cell_type": "code",
   "metadata": {
    "ExecuteTime": {
     "end_time": "2025-05-21T22:47:32.106144Z",
     "start_time": "2025-05-21T22:47:32.086120Z"
    }
   },
   "source": [
    "X = df_clean.drop('Revenue', axis=1)\n",
    "y = df_clean['Revenue']"
   ],
   "outputs": [],
   "execution_count": 14
  },
  {
   "cell_type": "markdown",
   "metadata": {},
   "source": [
    "*Chia tập train-test.*"
   ]
  },
  {
   "cell_type": "code",
   "metadata": {
    "ExecuteTime": {
     "end_time": "2025-05-21T22:47:33.536251Z",
     "start_time": "2025-05-21T22:47:33.513251Z"
    }
   },
   "source": [
    "from sklearn.model_selection import train_test_split\n",
    "\n",
    "X_train, X_test, y_train, y_test = train_test_split(\n",
    "    X, y, test_size=0.2, stratify=y, random_state=42\n",
    ")"
   ],
   "outputs": [],
   "execution_count": 15
  },
  {
   "cell_type": "markdown",
   "metadata": {},
   "source": [
    "*Huấn luyện model Decision Trees với Gini Index chưa pruning*"
   ]
  },
  {
   "cell_type": "code",
   "metadata": {
    "ExecuteTime": {
     "end_time": "2025-05-21T22:47:34.980967Z",
     "start_time": "2025-05-21T22:47:34.864986Z"
    }
   },
   "source": [
    "# 1. Huấn luyện mô hình gốc (chưa pruning)\n",
    "clf_original = DecisionTreeClassifier(\n",
    "    criterion='gini',\n",
    "    random_state=42\n",
    ")\n",
    "clf_original.fit(X_train, y_train)"
   ],
   "outputs": [
    {
     "data": {
      "text/plain": [
       "DecisionTreeClassifier(random_state=42)"
      ],
      "text/html": [
       "<style>#sk-container-id-1 {\n",
       "  /* Definition of color scheme common for light and dark mode */\n",
       "  --sklearn-color-text: #000;\n",
       "  --sklearn-color-text-muted: #666;\n",
       "  --sklearn-color-line: gray;\n",
       "  /* Definition of color scheme for unfitted estimators */\n",
       "  --sklearn-color-unfitted-level-0: #fff5e6;\n",
       "  --sklearn-color-unfitted-level-1: #f6e4d2;\n",
       "  --sklearn-color-unfitted-level-2: #ffe0b3;\n",
       "  --sklearn-color-unfitted-level-3: chocolate;\n",
       "  /* Definition of color scheme for fitted estimators */\n",
       "  --sklearn-color-fitted-level-0: #f0f8ff;\n",
       "  --sklearn-color-fitted-level-1: #d4ebff;\n",
       "  --sklearn-color-fitted-level-2: #b3dbfd;\n",
       "  --sklearn-color-fitted-level-3: cornflowerblue;\n",
       "\n",
       "  /* Specific color for light theme */\n",
       "  --sklearn-color-text-on-default-background: var(--sg-text-color, var(--theme-code-foreground, var(--jp-content-font-color1, black)));\n",
       "  --sklearn-color-background: var(--sg-background-color, var(--theme-background, var(--jp-layout-color0, white)));\n",
       "  --sklearn-color-border-box: var(--sg-text-color, var(--theme-code-foreground, var(--jp-content-font-color1, black)));\n",
       "  --sklearn-color-icon: #696969;\n",
       "\n",
       "  @media (prefers-color-scheme: dark) {\n",
       "    /* Redefinition of color scheme for dark theme */\n",
       "    --sklearn-color-text-on-default-background: var(--sg-text-color, var(--theme-code-foreground, var(--jp-content-font-color1, white)));\n",
       "    --sklearn-color-background: var(--sg-background-color, var(--theme-background, var(--jp-layout-color0, #111)));\n",
       "    --sklearn-color-border-box: var(--sg-text-color, var(--theme-code-foreground, var(--jp-content-font-color1, white)));\n",
       "    --sklearn-color-icon: #878787;\n",
       "  }\n",
       "}\n",
       "\n",
       "#sk-container-id-1 {\n",
       "  color: var(--sklearn-color-text);\n",
       "}\n",
       "\n",
       "#sk-container-id-1 pre {\n",
       "  padding: 0;\n",
       "}\n",
       "\n",
       "#sk-container-id-1 input.sk-hidden--visually {\n",
       "  border: 0;\n",
       "  clip: rect(1px 1px 1px 1px);\n",
       "  clip: rect(1px, 1px, 1px, 1px);\n",
       "  height: 1px;\n",
       "  margin: -1px;\n",
       "  overflow: hidden;\n",
       "  padding: 0;\n",
       "  position: absolute;\n",
       "  width: 1px;\n",
       "}\n",
       "\n",
       "#sk-container-id-1 div.sk-dashed-wrapped {\n",
       "  border: 1px dashed var(--sklearn-color-line);\n",
       "  margin: 0 0.4em 0.5em 0.4em;\n",
       "  box-sizing: border-box;\n",
       "  padding-bottom: 0.4em;\n",
       "  background-color: var(--sklearn-color-background);\n",
       "}\n",
       "\n",
       "#sk-container-id-1 div.sk-container {\n",
       "  /* jupyter's `normalize.less` sets `[hidden] { display: none; }`\n",
       "     but bootstrap.min.css set `[hidden] { display: none !important; }`\n",
       "     so we also need the `!important` here to be able to override the\n",
       "     default hidden behavior on the sphinx rendered scikit-learn.org.\n",
       "     See: https://github.com/scikit-learn/scikit-learn/issues/21755 */\n",
       "  display: inline-block !important;\n",
       "  position: relative;\n",
       "}\n",
       "\n",
       "#sk-container-id-1 div.sk-text-repr-fallback {\n",
       "  display: none;\n",
       "}\n",
       "\n",
       "div.sk-parallel-item,\n",
       "div.sk-serial,\n",
       "div.sk-item {\n",
       "  /* draw centered vertical line to link estimators */\n",
       "  background-image: linear-gradient(var(--sklearn-color-text-on-default-background), var(--sklearn-color-text-on-default-background));\n",
       "  background-size: 2px 100%;\n",
       "  background-repeat: no-repeat;\n",
       "  background-position: center center;\n",
       "}\n",
       "\n",
       "/* Parallel-specific style estimator block */\n",
       "\n",
       "#sk-container-id-1 div.sk-parallel-item::after {\n",
       "  content: \"\";\n",
       "  width: 100%;\n",
       "  border-bottom: 2px solid var(--sklearn-color-text-on-default-background);\n",
       "  flex-grow: 1;\n",
       "}\n",
       "\n",
       "#sk-container-id-1 div.sk-parallel {\n",
       "  display: flex;\n",
       "  align-items: stretch;\n",
       "  justify-content: center;\n",
       "  background-color: var(--sklearn-color-background);\n",
       "  position: relative;\n",
       "}\n",
       "\n",
       "#sk-container-id-1 div.sk-parallel-item {\n",
       "  display: flex;\n",
       "  flex-direction: column;\n",
       "}\n",
       "\n",
       "#sk-container-id-1 div.sk-parallel-item:first-child::after {\n",
       "  align-self: flex-end;\n",
       "  width: 50%;\n",
       "}\n",
       "\n",
       "#sk-container-id-1 div.sk-parallel-item:last-child::after {\n",
       "  align-self: flex-start;\n",
       "  width: 50%;\n",
       "}\n",
       "\n",
       "#sk-container-id-1 div.sk-parallel-item:only-child::after {\n",
       "  width: 0;\n",
       "}\n",
       "\n",
       "/* Serial-specific style estimator block */\n",
       "\n",
       "#sk-container-id-1 div.sk-serial {\n",
       "  display: flex;\n",
       "  flex-direction: column;\n",
       "  align-items: center;\n",
       "  background-color: var(--sklearn-color-background);\n",
       "  padding-right: 1em;\n",
       "  padding-left: 1em;\n",
       "}\n",
       "\n",
       "\n",
       "/* Toggleable style: style used for estimator/Pipeline/ColumnTransformer box that is\n",
       "clickable and can be expanded/collapsed.\n",
       "- Pipeline and ColumnTransformer use this feature and define the default style\n",
       "- Estimators will overwrite some part of the style using the `sk-estimator` class\n",
       "*/\n",
       "\n",
       "/* Pipeline and ColumnTransformer style (default) */\n",
       "\n",
       "#sk-container-id-1 div.sk-toggleable {\n",
       "  /* Default theme specific background. It is overwritten whether we have a\n",
       "  specific estimator or a Pipeline/ColumnTransformer */\n",
       "  background-color: var(--sklearn-color-background);\n",
       "}\n",
       "\n",
       "/* Toggleable label */\n",
       "#sk-container-id-1 label.sk-toggleable__label {\n",
       "  cursor: pointer;\n",
       "  display: flex;\n",
       "  width: 100%;\n",
       "  margin-bottom: 0;\n",
       "  padding: 0.5em;\n",
       "  box-sizing: border-box;\n",
       "  text-align: center;\n",
       "  align-items: start;\n",
       "  justify-content: space-between;\n",
       "  gap: 0.5em;\n",
       "}\n",
       "\n",
       "#sk-container-id-1 label.sk-toggleable__label .caption {\n",
       "  font-size: 0.6rem;\n",
       "  font-weight: lighter;\n",
       "  color: var(--sklearn-color-text-muted);\n",
       "}\n",
       "\n",
       "#sk-container-id-1 label.sk-toggleable__label-arrow:before {\n",
       "  /* Arrow on the left of the label */\n",
       "  content: \"▸\";\n",
       "  float: left;\n",
       "  margin-right: 0.25em;\n",
       "  color: var(--sklearn-color-icon);\n",
       "}\n",
       "\n",
       "#sk-container-id-1 label.sk-toggleable__label-arrow:hover:before {\n",
       "  color: var(--sklearn-color-text);\n",
       "}\n",
       "\n",
       "/* Toggleable content - dropdown */\n",
       "\n",
       "#sk-container-id-1 div.sk-toggleable__content {\n",
       "  max-height: 0;\n",
       "  max-width: 0;\n",
       "  overflow: hidden;\n",
       "  text-align: left;\n",
       "  /* unfitted */\n",
       "  background-color: var(--sklearn-color-unfitted-level-0);\n",
       "}\n",
       "\n",
       "#sk-container-id-1 div.sk-toggleable__content.fitted {\n",
       "  /* fitted */\n",
       "  background-color: var(--sklearn-color-fitted-level-0);\n",
       "}\n",
       "\n",
       "#sk-container-id-1 div.sk-toggleable__content pre {\n",
       "  margin: 0.2em;\n",
       "  border-radius: 0.25em;\n",
       "  color: var(--sklearn-color-text);\n",
       "  /* unfitted */\n",
       "  background-color: var(--sklearn-color-unfitted-level-0);\n",
       "}\n",
       "\n",
       "#sk-container-id-1 div.sk-toggleable__content.fitted pre {\n",
       "  /* unfitted */\n",
       "  background-color: var(--sklearn-color-fitted-level-0);\n",
       "}\n",
       "\n",
       "#sk-container-id-1 input.sk-toggleable__control:checked~div.sk-toggleable__content {\n",
       "  /* Expand drop-down */\n",
       "  max-height: 200px;\n",
       "  max-width: 100%;\n",
       "  overflow: auto;\n",
       "}\n",
       "\n",
       "#sk-container-id-1 input.sk-toggleable__control:checked~label.sk-toggleable__label-arrow:before {\n",
       "  content: \"▾\";\n",
       "}\n",
       "\n",
       "/* Pipeline/ColumnTransformer-specific style */\n",
       "\n",
       "#sk-container-id-1 div.sk-label input.sk-toggleable__control:checked~label.sk-toggleable__label {\n",
       "  color: var(--sklearn-color-text);\n",
       "  background-color: var(--sklearn-color-unfitted-level-2);\n",
       "}\n",
       "\n",
       "#sk-container-id-1 div.sk-label.fitted input.sk-toggleable__control:checked~label.sk-toggleable__label {\n",
       "  background-color: var(--sklearn-color-fitted-level-2);\n",
       "}\n",
       "\n",
       "/* Estimator-specific style */\n",
       "\n",
       "/* Colorize estimator box */\n",
       "#sk-container-id-1 div.sk-estimator input.sk-toggleable__control:checked~label.sk-toggleable__label {\n",
       "  /* unfitted */\n",
       "  background-color: var(--sklearn-color-unfitted-level-2);\n",
       "}\n",
       "\n",
       "#sk-container-id-1 div.sk-estimator.fitted input.sk-toggleable__control:checked~label.sk-toggleable__label {\n",
       "  /* fitted */\n",
       "  background-color: var(--sklearn-color-fitted-level-2);\n",
       "}\n",
       "\n",
       "#sk-container-id-1 div.sk-label label.sk-toggleable__label,\n",
       "#sk-container-id-1 div.sk-label label {\n",
       "  /* The background is the default theme color */\n",
       "  color: var(--sklearn-color-text-on-default-background);\n",
       "}\n",
       "\n",
       "/* On hover, darken the color of the background */\n",
       "#sk-container-id-1 div.sk-label:hover label.sk-toggleable__label {\n",
       "  color: var(--sklearn-color-text);\n",
       "  background-color: var(--sklearn-color-unfitted-level-2);\n",
       "}\n",
       "\n",
       "/* Label box, darken color on hover, fitted */\n",
       "#sk-container-id-1 div.sk-label.fitted:hover label.sk-toggleable__label.fitted {\n",
       "  color: var(--sklearn-color-text);\n",
       "  background-color: var(--sklearn-color-fitted-level-2);\n",
       "}\n",
       "\n",
       "/* Estimator label */\n",
       "\n",
       "#sk-container-id-1 div.sk-label label {\n",
       "  font-family: monospace;\n",
       "  font-weight: bold;\n",
       "  display: inline-block;\n",
       "  line-height: 1.2em;\n",
       "}\n",
       "\n",
       "#sk-container-id-1 div.sk-label-container {\n",
       "  text-align: center;\n",
       "}\n",
       "\n",
       "/* Estimator-specific */\n",
       "#sk-container-id-1 div.sk-estimator {\n",
       "  font-family: monospace;\n",
       "  border: 1px dotted var(--sklearn-color-border-box);\n",
       "  border-radius: 0.25em;\n",
       "  box-sizing: border-box;\n",
       "  margin-bottom: 0.5em;\n",
       "  /* unfitted */\n",
       "  background-color: var(--sklearn-color-unfitted-level-0);\n",
       "}\n",
       "\n",
       "#sk-container-id-1 div.sk-estimator.fitted {\n",
       "  /* fitted */\n",
       "  background-color: var(--sklearn-color-fitted-level-0);\n",
       "}\n",
       "\n",
       "/* on hover */\n",
       "#sk-container-id-1 div.sk-estimator:hover {\n",
       "  /* unfitted */\n",
       "  background-color: var(--sklearn-color-unfitted-level-2);\n",
       "}\n",
       "\n",
       "#sk-container-id-1 div.sk-estimator.fitted:hover {\n",
       "  /* fitted */\n",
       "  background-color: var(--sklearn-color-fitted-level-2);\n",
       "}\n",
       "\n",
       "/* Specification for estimator info (e.g. \"i\" and \"?\") */\n",
       "\n",
       "/* Common style for \"i\" and \"?\" */\n",
       "\n",
       ".sk-estimator-doc-link,\n",
       "a:link.sk-estimator-doc-link,\n",
       "a:visited.sk-estimator-doc-link {\n",
       "  float: right;\n",
       "  font-size: smaller;\n",
       "  line-height: 1em;\n",
       "  font-family: monospace;\n",
       "  background-color: var(--sklearn-color-background);\n",
       "  border-radius: 1em;\n",
       "  height: 1em;\n",
       "  width: 1em;\n",
       "  text-decoration: none !important;\n",
       "  margin-left: 0.5em;\n",
       "  text-align: center;\n",
       "  /* unfitted */\n",
       "  border: var(--sklearn-color-unfitted-level-1) 1pt solid;\n",
       "  color: var(--sklearn-color-unfitted-level-1);\n",
       "}\n",
       "\n",
       ".sk-estimator-doc-link.fitted,\n",
       "a:link.sk-estimator-doc-link.fitted,\n",
       "a:visited.sk-estimator-doc-link.fitted {\n",
       "  /* fitted */\n",
       "  border: var(--sklearn-color-fitted-level-1) 1pt solid;\n",
       "  color: var(--sklearn-color-fitted-level-1);\n",
       "}\n",
       "\n",
       "/* On hover */\n",
       "div.sk-estimator:hover .sk-estimator-doc-link:hover,\n",
       ".sk-estimator-doc-link:hover,\n",
       "div.sk-label-container:hover .sk-estimator-doc-link:hover,\n",
       ".sk-estimator-doc-link:hover {\n",
       "  /* unfitted */\n",
       "  background-color: var(--sklearn-color-unfitted-level-3);\n",
       "  color: var(--sklearn-color-background);\n",
       "  text-decoration: none;\n",
       "}\n",
       "\n",
       "div.sk-estimator.fitted:hover .sk-estimator-doc-link.fitted:hover,\n",
       ".sk-estimator-doc-link.fitted:hover,\n",
       "div.sk-label-container:hover .sk-estimator-doc-link.fitted:hover,\n",
       ".sk-estimator-doc-link.fitted:hover {\n",
       "  /* fitted */\n",
       "  background-color: var(--sklearn-color-fitted-level-3);\n",
       "  color: var(--sklearn-color-background);\n",
       "  text-decoration: none;\n",
       "}\n",
       "\n",
       "/* Span, style for the box shown on hovering the info icon */\n",
       ".sk-estimator-doc-link span {\n",
       "  display: none;\n",
       "  z-index: 9999;\n",
       "  position: relative;\n",
       "  font-weight: normal;\n",
       "  right: .2ex;\n",
       "  padding: .5ex;\n",
       "  margin: .5ex;\n",
       "  width: min-content;\n",
       "  min-width: 20ex;\n",
       "  max-width: 50ex;\n",
       "  color: var(--sklearn-color-text);\n",
       "  box-shadow: 2pt 2pt 4pt #999;\n",
       "  /* unfitted */\n",
       "  background: var(--sklearn-color-unfitted-level-0);\n",
       "  border: .5pt solid var(--sklearn-color-unfitted-level-3);\n",
       "}\n",
       "\n",
       ".sk-estimator-doc-link.fitted span {\n",
       "  /* fitted */\n",
       "  background: var(--sklearn-color-fitted-level-0);\n",
       "  border: var(--sklearn-color-fitted-level-3);\n",
       "}\n",
       "\n",
       ".sk-estimator-doc-link:hover span {\n",
       "  display: block;\n",
       "}\n",
       "\n",
       "/* \"?\"-specific style due to the `<a>` HTML tag */\n",
       "\n",
       "#sk-container-id-1 a.estimator_doc_link {\n",
       "  float: right;\n",
       "  font-size: 1rem;\n",
       "  line-height: 1em;\n",
       "  font-family: monospace;\n",
       "  background-color: var(--sklearn-color-background);\n",
       "  border-radius: 1rem;\n",
       "  height: 1rem;\n",
       "  width: 1rem;\n",
       "  text-decoration: none;\n",
       "  /* unfitted */\n",
       "  color: var(--sklearn-color-unfitted-level-1);\n",
       "  border: var(--sklearn-color-unfitted-level-1) 1pt solid;\n",
       "}\n",
       "\n",
       "#sk-container-id-1 a.estimator_doc_link.fitted {\n",
       "  /* fitted */\n",
       "  border: var(--sklearn-color-fitted-level-1) 1pt solid;\n",
       "  color: var(--sklearn-color-fitted-level-1);\n",
       "}\n",
       "\n",
       "/* On hover */\n",
       "#sk-container-id-1 a.estimator_doc_link:hover {\n",
       "  /* unfitted */\n",
       "  background-color: var(--sklearn-color-unfitted-level-3);\n",
       "  color: var(--sklearn-color-background);\n",
       "  text-decoration: none;\n",
       "}\n",
       "\n",
       "#sk-container-id-1 a.estimator_doc_link.fitted:hover {\n",
       "  /* fitted */\n",
       "  background-color: var(--sklearn-color-fitted-level-3);\n",
       "}\n",
       "</style><div id=\"sk-container-id-1\" class=\"sk-top-container\"><div class=\"sk-text-repr-fallback\"><pre>DecisionTreeClassifier(random_state=42)</pre><b>In a Jupyter environment, please rerun this cell to show the HTML representation or trust the notebook. <br />On GitHub, the HTML representation is unable to render, please try loading this page with nbviewer.org.</b></div><div class=\"sk-container\" hidden><div class=\"sk-item\"><div class=\"sk-estimator fitted sk-toggleable\"><input class=\"sk-toggleable__control sk-hidden--visually\" id=\"sk-estimator-id-1\" type=\"checkbox\" checked><label for=\"sk-estimator-id-1\" class=\"sk-toggleable__label fitted sk-toggleable__label-arrow\"><div><div>DecisionTreeClassifier</div></div><div><a class=\"sk-estimator-doc-link fitted\" rel=\"noreferrer\" target=\"_blank\" href=\"https://scikit-learn.org/1.6/modules/generated/sklearn.tree.DecisionTreeClassifier.html\">?<span>Documentation for DecisionTreeClassifier</span></a><span class=\"sk-estimator-doc-link fitted\">i<span>Fitted</span></span></div></label><div class=\"sk-toggleable__content fitted\"><pre>DecisionTreeClassifier(random_state=42)</pre></div> </div></div></div></div>"
      ]
     },
     "execution_count": 16,
     "metadata": {},
     "output_type": "execute_result"
    }
   ],
   "execution_count": 16
  },
  {
   "cell_type": "markdown",
   "metadata": {},
   "source": [
    "*Đánh giá mô hình gốc.*"
   ]
  },
  {
   "cell_type": "code",
   "metadata": {
    "ExecuteTime": {
     "end_time": "2025-05-21T22:47:37.057128Z",
     "start_time": "2025-05-21T22:47:37.040117Z"
    }
   },
   "source": [
    "y_pred_orig = clf_original.predict(X_test)\n",
    "acc_orig = accuracy_score(y_test, y_pred_orig)"
   ],
   "outputs": [],
   "execution_count": 17
  },
  {
   "cell_type": "code",
   "metadata": {
    "ExecuteTime": {
     "end_time": "2025-05-21T22:47:38.183464Z",
     "start_time": "2025-05-21T22:47:38.158340Z"
    }
   },
   "source": [
    "print(\"Hiệu suất mô hình GỐC (chưa pruning)\")\n",
    "print(\"Accuracy:\", acc_orig)\n",
    "print(confusion_matrix(y_test, y_pred_orig))\n",
    "print(classification_report(y_test, y_pred_orig))"
   ],
   "outputs": [
    {
     "name": "stdout",
     "output_type": "stream",
     "text": [
      "Hiệu suất mô hình GỐC (chưa pruning)\n",
      "Accuracy: 0.8527980535279805\n",
      "[[1893  191]\n",
      " [ 172  210]]\n",
      "              precision    recall  f1-score   support\n",
      "\n",
      "           0       0.92      0.91      0.91      2084\n",
      "           1       0.52      0.55      0.54       382\n",
      "\n",
      "    accuracy                           0.85      2466\n",
      "   macro avg       0.72      0.73      0.72      2466\n",
      "weighted avg       0.86      0.85      0.85      2466\n",
      "\n"
     ]
    }
   ],
   "execution_count": 18
  },
  {
   "cell_type": "markdown",
   "metadata": {},
   "source": [
    "Accuracy 85.3%. Khá cao nhưng không đủ đánh giá tốt vì dữ liệu mất cân bằng nhãn (80% là No Purchase)."
   ]
  },
  {
   "cell_type": "markdown",
   "metadata": {},
   "source": [
    "TN (True Negative – Không mua & dự đoán đúng): 1893\n",
    "\n",
    "FP (False Positive – Dự đoán mua nhưng thực tế không): 191\n",
    "\n",
    "FN (False Negative – Dự đoán không mua nhưng thực tế có mua): 172\n",
    "\n",
    "TP (True Positive – Mua & dự đoán đúng): 210\n",
    "\n",
    "Điều này cho thấy:\n",
    "\n",
    "Mô hình có xu hướng thiên về lớp \"Không mua\" (class 0).\n",
    "\n",
    "Nó dự đoán sai khá nhiều trường hợp mua hàng thật sự (172 trường hợp mua bị bỏ sót)."
   ]
  },
  {
   "cell_type": "markdown",
   "metadata": {},
   "source": [
    "Lớp 0 (No Purchase)\n",
    "Precision & Recall đều cao → Mô hình rất tốt trong việc nhận diện người không mua hàng.\n",
    "\n",
    "Lớp 1 (Purchase)\n",
    "Precision chỉ 0.52 → Khi mô hình dự đoán là \"Purchase\", gần 50% là sai.\n",
    "\n",
    "Recall chỉ 0.55 → Mô hình bỏ lỡ 45% người thực sự mua hàng."
   ]
  },
  {
   "cell_type": "markdown",
   "metadata": {},
   "source": [
    "Mô hình gốc hoạt động rất tốt với lớp \"Không mua\", nhưng hiệu suất kém với lớp \"Mua\".\n",
    "\n",
    "Accuracy cao nhưng không giúp ích trong việc phát hiện hành vi mua hàng (lớp quan trọng).\n",
    "\n",
    "\n",
    "Cần áp dụng các biện pháp cải thiện như:\n",
    "- Pruning để tránh overfitting vào noise.\n",
    "\n",
    "- Class weight hoặc sampling để cân bằng dữ liệu.\n",
    "\n",
    "- Thuật toán nâng cao hơn như Random Forest, XGBoost.\n",
    "\n"
   ]
  },
  {
   "cell_type": "markdown",
   "metadata": {},
   "source": [
    "**Sử dụng Cost-Complexity Pruning**"
   ]
  },
  {
   "cell_type": "markdown",
   "metadata": {},
   "source": [
    "*Tìm các giá trị ccp_alpha*"
   ]
  },
  {
   "cell_type": "code",
   "metadata": {
    "ExecuteTime": {
     "end_time": "2025-05-21T22:48:07.410803Z",
     "start_time": "2025-05-21T22:48:07.258439Z"
    }
   },
   "source": [
    "path = clf_original.cost_complexity_pruning_path(X_train, y_train)\n",
    "ccp_alphas = path.ccp_alphas"
   ],
   "outputs": [],
   "execution_count": 20
  },
  {
   "cell_type": "markdown",
   "metadata": {},
   "source": [
    "*Huấn luyện mô hình với các giá trị ccp_alpha*"
   ]
  },
  {
   "cell_type": "code",
   "metadata": {
    "ExecuteTime": {
     "end_time": "2025-05-21T22:48:30.673047Z",
     "start_time": "2025-05-21T22:48:08.851362Z"
    }
   },
   "source": [
    "from sklearn.metrics import f1_score\n",
    "\n",
    "clfs = []\n",
    "for ccp_alpha in ccp_alphas:\n",
    "    clf_temp = DecisionTreeClassifier(random_state=42, criterion='gini', ccp_alpha=ccp_alpha)\n",
    "    clf_temp.fit(X_train, y_train)\n",
    "    clfs.append(clf_temp)"
   ],
   "outputs": [],
   "execution_count": 21
  },
  {
   "cell_type": "markdown",
   "metadata": {},
   "source": [
    "*Đánh giá các mô hình với các ccp_alpha khác nhau trên tập validation*"
   ]
  },
  {
   "cell_type": "code",
   "metadata": {
    "ExecuteTime": {
     "end_time": "2025-05-21T22:48:35.060908Z",
     "start_time": "2025-05-21T22:48:32.286353Z"
    }
   },
   "source": [
    "# Loại bỏ mô hình rỗng (alpha quá lớn khiến tree trống)\n",
    "clfs = clfs[:-1]\n",
    "ccp_alphas = ccp_alphas[:-1]\n",
    "\n",
    "train_scores = [clf.score(X_train, y_train) for clf in clfs]\n",
    "test_scores = [clf.score(X_test, y_test) for clf in clfs]\n",
    "\n",
    "# Tìm alpha tối ưu (có thể dựa trên f1 nếu muốn)\n",
    "f1_scores = [f1_score(y_test, clf.predict(X_test)) for clf in clfs]"
   ],
   "outputs": [],
   "execution_count": 22
  },
  {
   "cell_type": "markdown",
   "metadata": {},
   "source": [
    "*Trực quan kết quả*"
   ]
  },
  {
   "cell_type": "code",
   "metadata": {
    "ExecuteTime": {
     "end_time": "2025-05-21T22:48:36.472842Z",
     "start_time": "2025-05-21T22:48:36.309730Z"
    }
   },
   "source": [
    "# Plot kết quả nếu muốn\n",
    "import matplotlib.pyplot as plt\n",
    "\n",
    "plt.figure(figsize=(10, 6))\n",
    "plt.plot(ccp_alphas, train_scores, marker='o', label='Train Accuracy', drawstyle=\"steps-post\")\n",
    "plt.plot(ccp_alphas, test_scores, marker='o', label='Test Accuracy', drawstyle=\"steps-post\")\n",
    "plt.plot(ccp_alphas, f1_scores, marker='o', label='Test F1-score', drawstyle=\"steps-post\")\n",
    "plt.xlabel('ccp_alpha')\n",
    "plt.ylabel('Score')\n",
    "plt.legend()\n",
    "plt.title('Cost-Complexity Pruning')\n",
    "plt.grid()\n",
    "plt.show()"
   ],
   "outputs": [
    {
     "data": {
      "text/plain": [
       "<Figure size 1000x600 with 1 Axes>"
      ],
      "image/png": "[encoded data removed]"
     },
     "metadata": {},
     "output_type": "display_data"
    }
   ],
   "execution_count": 23
  },
  {
   "cell_type": "markdown",
   "metadata": {},
   "source": [
    "*1.Trục X (ccp_alpha):*\n",
    "    Đại diện cho mức độ cắt tỉa của tree.\n",
    "\n",
    "    Khi ccp_alpha tăng, model càng bị cắt tỉa nhiều, dẫn đến tree nhỏ hơn và ít phức tạp hơn.\n",
    "\n",
    "*2.Trục Y (Score):*\n",
    "    Bao gồm 3 đường:\n",
    "\n",
    "    Train Accuracy (xanh): Độ chính xác trên tập train.\n",
    "\n",
    "    Test Accuracy (cam): Độ chính xác trên tập test.\n",
    "\n",
    "    Test F1-score (xanh lá): F1-score của lớp dương (có Revenue=True), đại diện cho hiệu suất model với dữ liệu mất cân bằng."
   ]
  },
  {
   "cell_type": "markdown",
   "metadata": {},
   "source": [
    "**Diễn giải biểu đồ:**\n",
    "*Train Accuracy:*\n",
    "    Bắt đầu rất cao (gần 100%) → cho thấy model ban đầu đang overfitting.\n",
    "\n",
    "    Khi tăng ccp_alpha, đường này giảm dần → do model trở nên đơn giản hơn (ít học thuộc dữ liệu huấn luyện hơn).\n",
    "\n",
    "*Test Accuracy:*\n",
    "    Tăng nhẹ ở mức ccp_alpha rất nhỏ rồi ổn định quanh ~0.89 → cho thấy một mức pruning nhẹ giúp model tổng quát tốt hơn.\n",
    "\n",
    "    Sau đó giảm khi ccp_alpha quá cao → do model trở nên quá đơn giản (underfit).\n",
    "\n",
    "*Test F1-score:*\n",
    "    Bắt đầu thấp và tăng lên dần tại một số giá trị ccp_alpha nhỏ (~0.0003 → 0.001) → vùng này là tốt để chọn giá trị cuối cùng.\n",
    "\n",
    "    Giảm mạnh sau một ngưỡng → cắt tỉa quá mức làm mất khả năng phát hiện lớp dương (Revenue = True)."
   ]
  },
  {
   "cell_type": "markdown",
   "metadata": {},
   "source": [
    "*Chọn mô hình tốt nhất và đánh giá*"
   ]
  },
  {
   "cell_type": "code",
   "metadata": {
    "ExecuteTime": {
     "end_time": "2025-05-21T22:48:41.374692Z",
     "start_time": "2025-05-21T22:48:41.345044Z"
    }
   },
   "source": [
    "# Chọn mô hình có f1-score cao nhất\n",
    "best_index = f1_scores.index(max(f1_scores))\n",
    "best_alpha = ccp_alphas[best_index]\n",
    "best_clf = clfs[best_index]\n",
    "\n",
    "# Dự đoán và đánh giá\n",
    "y_pred_pruned = best_clf.predict(X_test)\n",
    "\n",
    "from sklearn.metrics import classification_report, confusion_matrix, accuracy_score\n",
    "\n",
    "print(\"Hiệu suất mô hình SAU PRUNING (alpha = {:.5f})\".format(best_alpha))\n",
    "print(\"Accuracy:\", accuracy_score(y_test, y_pred_pruned))\n",
    "print(confusion_matrix(y_test, y_pred_pruned))\n",
    "print(classification_report(y_test, y_pred_pruned))"
   ],
   "outputs": [
    {
     "name": "stdout",
     "output_type": "stream",
     "text": [
      "Hiệu suất mô hình SAU PRUNING (alpha = 0.00053)\n",
      "Accuracy: 0.9002433090024331\n",
      "[[1986   98]\n",
      " [ 148  234]]\n",
      "              precision    recall  f1-score   support\n",
      "\n",
      "           0       0.93      0.95      0.94      2084\n",
      "           1       0.70      0.61      0.66       382\n",
      "\n",
      "    accuracy                           0.90      2466\n",
      "   macro avg       0.82      0.78      0.80      2466\n",
      "weighted avg       0.90      0.90      0.90      2466\n",
      "\n"
     ]
    }
   ],
   "execution_count": 24
  },
  {
   "cell_type": "markdown",
   "metadata": {},
   "source": [
    "**Accuracy tăng từ 85.3% → 90.0%**\n",
    "\n",
    "Cho thấy mODEL tổng thể chính xác hơn sau khi pruning.\n",
    "\n",
    "**F1-score của lớp 1 (Revenue=True) tăng từ 0.54 → 0.66**\n",
    "\n",
    "Đây là điểm mấu chốt vì lớp này đại diện cho khách hàng mua hàng, vốn là lớp ít (minority class).\n",
    "\n",
    "Sau pruning, mODEL:\n",
    "\n",
    "Ít bị overfit\n",
    "\n",
    "Phát hiện khách có khả năng mua hàng tốt hơn.\n",
    "\n",
    "**Cân bằng Precision và Recall tốt hơn**\n",
    "\n",
    "Precision tăng (ít dự đoán sai khách sẽ mua)\n",
    "\n",
    "Recall tăng (ít bỏ sót khách thực sự mua)\n",
    "\n",
    "**Pruning giúp đơn giản hóa mODEL nhưng không làm giảm hiệu suất — mà còn cải thiện**\n",
    "\n",
    "Điều này nghĩa là model gốc bị overfit, và pruning giúp model generalize tốt hơn trên dữ liệu test."
   ]
  },
  {
   "cell_type": "markdown",
   "metadata": {},
   "source": [
    "**KẾT LUẬN**\n",
    "\n",
    "Pruning tại ccp_alpha = 0.00055 là lựa chọn tối ưu cho mô hình Decision Tree này.\n",
    "\n",
    "**Mô hình sau pruning:**\n",
    "\n",
    "Chính xác hơn\n",
    "\n",
    "Hiệu suất cao hơn trên lớp quan trọng (Revenue = True)\n",
    "\n",
    "Tổng quát hóa tốt hơn\n",
    "\n",
    "Tránh overfitting"
   ]
  },
  {
   "cell_type": "markdown",
   "metadata": {},
   "source": [
    "***HẠN CHẾ CỦA MÔ HÌNH***\n",
    "\n",
    "1.Hiệu suất lớp \"khách hàng mua hàng\" (class 1) vẫn còn thấp\n",
    "\n",
    "Đã cải thiện sau pruning.\n",
    "\n",
    "Tuy nhiên, recall 0.61 nghĩa là **39% khách hàng** có tiềm năng mua vẫn bị bỏ sót.\n",
    "\n",
    "Precision 0.70 cũng cho thấy 30% trong số được dự đoán mua là sai (false positives).\n",
    "\n",
    "\n",
    "2.Dữ liệu bị mất cân bằng (Imbalanced Dataset)\n",
    "\n",
    "Lớp Revenue=False: 10,422 mẫu (~85%)\n",
    "\n",
    "Lớp Revenue=True: 1,908 mẫu (~15%)\n",
    "\n",
    "-> Mô hình học lệch về lớp không mua (class 0), dễ bị bias.\n",
    "\n",
    "\n",
    "3.Mô hình đơn giản (Decision Tree) có giới hạn\n",
    "\n",
    "Dễ overfit hoặc underfit nếu không kiểm soát tốt.\n",
    "\n",
    "Không bắt được quan hệ phức tạp giữa các feature.\n",
    "\n",
    "\n",
    "4.Một số feature có thể chưa đủ mạnh\n",
    "\n",
    "Một số biến như Month, VisitorType, Weekend chỉ encode đơn giản → có thể mất thông tin quan trọng.\n",
    "\n",
    "Không có tính năng về hành vi cụ thể (ví dụ: số lần quay lại trong tuần, tổng thời gian mua hàng gần nhất...).\n",
    "\n"
   ]
  },
  {
   "cell_type": "markdown",
   "metadata": {},
   "source": [
    "**HƯỚNG CẢI THIỆN MODEL TIẾP THEO:**\n",
    "\n",
    "1.Giải quyết mất cân bằng dữ liệu\n",
    "\n",
    "    Over-sampling: SMOTE, ADASYN cho lớp Revenue=True\n",
    "\n",
    "\n",
    "2.Tăng cường engineering feature\n",
    "\n",
    "    Tạo thêm biến tổng hợp như:\n",
    "\n",
    "    TotalDuration = Administrative_Duration + Informational_Duration + ProductRelated_Duration\n",
    "\n",
    "    TotalPages = Administrative + Informational + ProductRelated\n",
    "\n",
    "    BounceRate_Ratio = BounceRates / ExitRates\n",
    "\n",
    "    Biến đổi thời gian Month thành mùa (Spring, Summer,...) để mô hình học tốt hơn.\n",
    "\n",
    "3.Chuyển sang mô hình nâng cao\n",
    "\n",
    "    Random Forest: Giảm overfitting, ổn định hơn.\n",
    "\n",
    "    XGBoost / LightGBM: Tối ưu cho dữ liệu không cân bằng, hiệu suất tốt hơn.\n",
    "\n",
    "    So sánh với Decision Tree hiện tại để đánh giá hiệu quả.\n",
    "\n",
    "4.Dùng Cross-validation + Hyperparameter Tuning\n",
    "\n",
    "    Sử dụng GridSearchCV hoặc RandomizedSearchCV để tìm:\n",
    "\n",
    "        max_depth, min_samples_leaf, max_features, ccp_alpha tối ưu.\n",
    "\n",
    "        Giúp mô hình ổn định và không quá phụ thuộc vào 1 split.\n",
    "\n",
    "5.Giám sát kỹ chỉ số Recall của class 1\n",
    "\n",
    "    Nếu mục tiêu là tăng tỉ lệ phát hiện khách hàng mua, hãy ưu tiên recall class 1 trong tuning.\n",
    "\n",
    "    Có thể chấp nhận giảm precision nếu cần bắt được đúng nhiều khách mua tiềm năng."
   ]
  }
 ],
 "metadata": {
  "kernelspec": {
   "display_name": "Python 3",
   "language": "python",
   "name": "python3"
  },
  "language_info": {
   "codemirror_mode": {
    "name": "ipython",
    "version": 3
   },
   "file_extension": ".py",
   "mimetype": "text/x-python",
   "name": "python",
   "nbconvert_exporter": "python",
   "pygments_lexer": "ipython3",
   "version": "3.11.5"
  }
 },
 "nbformat": 4,
 "nbformat_minor": 2
}
